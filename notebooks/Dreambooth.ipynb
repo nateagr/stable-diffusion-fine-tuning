{
 "cells": [
  {
   "cell_type": "code",
   "execution_count": null,
   "id": "47aa6819",
   "metadata": {},
   "outputs": [],
   "source": [
    "import os\n",
    "\n",
    "from diffusers import StableDiffusionPipeline\n",
    "\n",
    "from stable_diffusion_fine_tuning.dreambooth.main import train, DreamboothConfig"
   ]
  },
  {
   "cell_type": "code",
   "execution_count": null,
   "id": "066c5345",
   "metadata": {},
   "outputs": [],
   "source": [
    "pipeline = StableDiffusionPipeline.from_pretrained(\n",
    "    \"CompVis/stable-diffusion-v1-4\",\n",
    "    use_auth_token=True\n",
    ")"
   ]
  },
  {
   "cell_type": "code",
   "execution_count": null,
   "id": "8ecb2011",
   "metadata": {},
   "outputs": [],
   "source": [
    "configs = [\n",
    "    # Clay toy\n",
    "    DreamboothConfig(\n",
    "        name=\"clay_toy\",\n",
    "        instance_images=[\n",
    "            \"https://huggingface.co/datasets/valhalla/images/resolve/main/2.jpeg\",\n",
    "            \"https://huggingface.co/datasets/valhalla/images/resolve/main/3.jpeg\",\n",
    "            \"https://huggingface.co/datasets/valhalla/images/resolve/main/5.jpeg\",\n",
    "            \"https://huggingface.co/datasets/valhalla/images/resolve/main/6.jpeg\"\n",
    "        ],\n",
    "        instance_prompt=\"a photo of sks toy\",\n",
    "        class_prompt=\"a photo of a cat clay toy\",\n",
    "        eval_prompt=\"a photo of sks toy riding a bike\"\n",
    "    ),\n",
    "    \n",
    "    # Picsou\n",
    "    DreamboothConfig(\n",
    "        name=\"picsou\",\n",
    "        instance_images=[\n",
    "            \"https://www.ligneclaire.info/wp-content/uploads/2022/07/picsou-sou-fetiche.png\",\n",
    "            \"https://www.chroniquedisney.fr/imgPerso/donaldville/1947-balthazar-picsou-00.png\",\n",
    "            \"https://vl-media.fr/wp-content/uploads/2022/03/Picsou-75-ans-anniversaire-Disney-Carl-Barks-La-Bande-a-Picsou-Picsou-Magazine-1024x694.jpg\",\n",
    "            \"https://static.wikia.nocookie.net/picsou/images/8/86/Balthazar_Picsou_2.jpg/revision/latest?cb=20160414111124&path-prefix=fr\",\n",
    "            \"https://fr.web.img2.acsta.net/r_654_368/newsv7/21/08/09/16/06/0518153.jpg\"\n",
    "        ],\n",
    "        instance_prompt=\"a photo of [V] cartoon character\",\n",
    "        class_prompt=\"a photo of a cartoon character\",\n",
    "        eval_prompt=\"a photo of [V] cartoon character riding a bike\"\n",
    "    )\n",
    "]\n",
    "\n",
    "root_dir = \"dreambooth\""
   ]
  },
  {
   "cell_type": "code",
   "execution_count": null,
   "id": "14248a8f",
   "metadata": {},
   "outputs": [],
   "source": [
    "run(pipeline=pipeline, configs=configs, root_dir=root_dir)"
   ]
  }
 ],
 "metadata": {
  "kernelspec": {
   "display_name": "stable_diffusion_pyenv",
   "language": "python",
   "name": "stable_diffusion_pyenv"
  },
  "language_info": {
   "codemirror_mode": {
    "name": "ipython",
    "version": 3
   },
   "file_extension": ".py",
   "mimetype": "text/x-python",
   "name": "python",
   "nbconvert_exporter": "python",
   "pygments_lexer": "ipython3",
   "version": "3.9.12"
  }
 },
 "nbformat": 4,
 "nbformat_minor": 5
}
